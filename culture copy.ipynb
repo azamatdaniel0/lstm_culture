{
 "cells": [
  {
   "attachments": {},
   "cell_type": "markdown",
   "metadata": {},
   "source": [
    "# Importing libraries"
   ]
  },
  {
   "cell_type": "code",
   "execution_count": 1,
   "metadata": {},
   "outputs": [],
   "source": [
    "import torch\n",
    "import torch.nn as nn\n",
    "import torch.optim as optim\n",
    "from torch.utils.data import DataLoader, Dataset, TensorDataset\n",
    "import numpy as np\n",
    "import pandas as pd\n",
    "from sklearn.model_selection import train_test_split\n",
    "from sklearn.preprocessing import MinMaxScaler"
   ]
  },
  {
   "attachments": {},
   "cell_type": "markdown",
   "metadata": {},
   "source": [
    "# Settings"
   ]
  },
  {
   "cell_type": "code",
   "execution_count": 2,
   "metadata": {},
   "outputs": [],
   "source": [
    "classe_info = {\n",
    "  'Пшеница - 231 тонн':                {'value':0},\n",
    "  'Не найдено - 10 тонн':              {'value':1},\n",
    "  'Подсолнечник - 0 тонн':             {'value':2},\n",
    "  'Картошка - 1 тонн':                   {'value':3},\n",
    "  'Табак - 0 тонн':                    {'value':4},\n",
    "  'Сахарная свекла - 0 тонн':          {'value':5},\n",
    "  'Капуста - 0 тонн':                  {'value':6},\n",
    "  'Свекла - 0 тонн':                   {'value':7},\n",
    "  'Моpковь - 0 тонн':                  {'value':8},\n",
    "  'Лук - 0 тонн':                      {'value':9},\n",
    "}\n",
    "\n",
    "classes = {x : y.get('value') for x, y in classe_info.items()}\n",
    "\n",
    "features = ['red', 'nir', 'swir']\n",
    "n_features = len(features)\n",
    "\n",
    "sequence_size = 30\n",
    "\n",
    "model_dir = './logs'"
   ]
  },
  {
   "attachments": {},
   "cell_type": "markdown",
   "metadata": {},
   "source": [
    "# Dataset preparation"
   ]
  },
  {
   "cell_type": "code",
   "execution_count": 3,
   "metadata": {},
   "outputs": [
    {
     "name": "stdout",
     "output_type": "stream",
     "text": [
      "data shape =  (1265000, 4)\n",
      "X_train, y_train shape =  (948750, 3) (948750,)\n"
     ]
    }
   ],
   "source": [
    "# Dataset preparation\n",
    "url = \"time_series.csv\"\n",
    "data = pd.read_csv(url)\n",
    "data = data.drop(['date', 'id'], axis=1)\n",
    "\n",
    "X = data.iloc[:, :-1].values\n",
    "y = data.iloc[:, -1].values\n",
    "\n",
    "scaler = MinMaxScaler()\n",
    "X = scaler.fit_transform(X)\n",
    "\n",
    "X_train, X_test, y_train, y_test = train_test_split(X, y, test_size=0.25, random_state=42)\n",
    "\n",
    "print('data shape = ',data.shape)\n",
    "print('X_train, y_train shape = ', X_train.shape, y_train.shape)"
   ]
  },
  {
   "cell_type": "code",
   "execution_count": 4,
   "metadata": {},
   "outputs": [
    {
     "name": "stdout",
     "output_type": "stream",
     "text": [
      "[ 5 17  1  8  0 11  3 15  7 12  2 10 16  9 14 18  4  6 13 19]\n"
     ]
    }
   ],
   "source": [
    "A = data['class'].unique()\n",
    "print(A)"
   ]
  },
  {
   "cell_type": "code",
   "execution_count": 5,
   "metadata": {},
   "outputs": [],
   "source": [
    "# Dataset preparation\n",
    "url = \"time_series.csv\"\n",
    "data = pd.read_csv(url)\n",
    "data = data.drop(['date', 'id'], axis=1)\n",
    "\n",
    "df_filtered = data[(data['class'] < 10) | (data['class'] > 19)]\n",
    "df_filtered.to_csv('df_filtered.csv', index=False)"
   ]
  },
  {
   "cell_type": "code",
   "execution_count": 6,
   "metadata": {},
   "outputs": [
    {
     "data": {
      "text/html": [
       "<div>\n",
       "<style scoped>\n",
       "    .dataframe tbody tr th:only-of-type {\n",
       "        vertical-align: middle;\n",
       "    }\n",
       "\n",
       "    .dataframe tbody tr th {\n",
       "        vertical-align: top;\n",
       "    }\n",
       "\n",
       "    .dataframe thead th {\n",
       "        text-align: right;\n",
       "    }\n",
       "</style>\n",
       "<table border=\"1\" class=\"dataframe\">\n",
       "  <thead>\n",
       "    <tr style=\"text-align: right;\">\n",
       "      <th></th>\n",
       "      <th>red</th>\n",
       "      <th>nir</th>\n",
       "      <th>swir</th>\n",
       "      <th>class</th>\n",
       "    </tr>\n",
       "  </thead>\n",
       "  <tbody>\n",
       "    <tr>\n",
       "      <th>0</th>\n",
       "      <td>0.125</td>\n",
       "      <td>0.263</td>\n",
       "      <td>0.249</td>\n",
       "      <td>5</td>\n",
       "    </tr>\n",
       "    <tr>\n",
       "      <th>1</th>\n",
       "      <td>0.149</td>\n",
       "      <td>0.283</td>\n",
       "      <td>0.254</td>\n",
       "      <td>5</td>\n",
       "    </tr>\n",
       "    <tr>\n",
       "      <th>2</th>\n",
       "      <td>0.170</td>\n",
       "      <td>0.304</td>\n",
       "      <td>0.284</td>\n",
       "      <td>17</td>\n",
       "    </tr>\n",
       "    <tr>\n",
       "      <th>3</th>\n",
       "      <td>0.191</td>\n",
       "      <td>0.319</td>\n",
       "      <td>0.302</td>\n",
       "      <td>17</td>\n",
       "    </tr>\n",
       "    <tr>\n",
       "      <th>4</th>\n",
       "      <td>0.213</td>\n",
       "      <td>0.343</td>\n",
       "      <td>0.319</td>\n",
       "      <td>17</td>\n",
       "    </tr>\n",
       "    <tr>\n",
       "      <th>...</th>\n",
       "      <td>...</td>\n",
       "      <td>...</td>\n",
       "      <td>...</td>\n",
       "      <td>...</td>\n",
       "    </tr>\n",
       "    <tr>\n",
       "      <th>1264995</th>\n",
       "      <td>0.160</td>\n",
       "      <td>0.305</td>\n",
       "      <td>0.263</td>\n",
       "      <td>2</td>\n",
       "    </tr>\n",
       "    <tr>\n",
       "      <th>1264996</th>\n",
       "      <td>0.189</td>\n",
       "      <td>0.354</td>\n",
       "      <td>0.298</td>\n",
       "      <td>17</td>\n",
       "    </tr>\n",
       "    <tr>\n",
       "      <th>1264997</th>\n",
       "      <td>0.216</td>\n",
       "      <td>0.376</td>\n",
       "      <td>0.305</td>\n",
       "      <td>17</td>\n",
       "    </tr>\n",
       "    <tr>\n",
       "      <th>1264998</th>\n",
       "      <td>0.231</td>\n",
       "      <td>0.389</td>\n",
       "      <td>0.332</td>\n",
       "      <td>17</td>\n",
       "    </tr>\n",
       "    <tr>\n",
       "      <th>1264999</th>\n",
       "      <td>0.246</td>\n",
       "      <td>0.389</td>\n",
       "      <td>0.357</td>\n",
       "      <td>17</td>\n",
       "    </tr>\n",
       "  </tbody>\n",
       "</table>\n",
       "<p>1265000 rows × 4 columns</p>\n",
       "</div>"
      ],
      "text/plain": [
       "           red    nir   swir  class\n",
       "0        0.125  0.263  0.249      5\n",
       "1        0.149  0.283  0.254      5\n",
       "2        0.170  0.304  0.284     17\n",
       "3        0.191  0.319  0.302     17\n",
       "4        0.213  0.343  0.319     17\n",
       "...        ...    ...    ...    ...\n",
       "1264995  0.160  0.305  0.263      2\n",
       "1264996  0.189  0.354  0.298     17\n",
       "1264997  0.216  0.376  0.305     17\n",
       "1264998  0.231  0.389  0.332     17\n",
       "1264999  0.246  0.389  0.357     17\n",
       "\n",
       "[1265000 rows x 4 columns]"
      ]
     },
     "execution_count": 6,
     "metadata": {},
     "output_type": "execute_result"
    }
   ],
   "source": [
    "data"
   ]
  },
  {
   "attachments": {},
   "cell_type": "markdown",
   "metadata": {},
   "source": [
    "##### Tuning hyperparameters"
   ]
  },
  {
   "cell_type": "code",
   "execution_count": 7,
   "metadata": {},
   "outputs": [],
   "source": [
    "input_dim = X_train.shape[1]\n",
    "output_dim = len(np.unique(y_train))\n",
    "hidden_dim = 64\n",
    "num_layers = 1\n",
    "batch_size = 32\n",
    "learning_rate = 0.001\n",
    "num_epochs = 1"
   ]
  },
  {
   "attachments": {},
   "cell_type": "markdown",
   "metadata": {},
   "source": [
    "##### Check for CUDA-enabled GPU"
   ]
  },
  {
   "cell_type": "code",
   "execution_count": 8,
   "metadata": {},
   "outputs": [
    {
     "name": "stdout",
     "output_type": "stream",
     "text": [
      "Using cuda for training.\n"
     ]
    }
   ],
   "source": [
    "device = torch.device(\"cuda\" if torch.cuda.is_available() else \"cpu\")\n",
    "print(f\"Using {device} for training.\")"
   ]
  },
  {
   "attachments": {},
   "cell_type": "markdown",
   "metadata": {},
   "source": [
    "##### Move data to GPU"
   ]
  },
  {
   "cell_type": "code",
   "execution_count": 9,
   "metadata": {},
   "outputs": [],
   "source": [
    "X_train = torch.Tensor(X_train).to(device)\n",
    "y_train = torch.LongTensor(y_train).to(device)\n",
    "\n",
    "X_test = torch.Tensor(X_test).to(device)\n",
    "y_test = torch.LongTensor(y_test).to(device)"
   ]
  },
  {
   "attachments": {},
   "cell_type": "markdown",
   "metadata": {},
   "source": [
    "##### Create Datasets and DataLoaders"
   ]
  },
  {
   "cell_type": "code",
   "execution_count": 10,
   "metadata": {},
   "outputs": [],
   "source": [
    "train_dataset = TensorDataset(X_train, y_train)\n",
    "test_dataset = TensorDataset(X_test, y_test)\n",
    "\n",
    "train_loader = DataLoader(dataset=train_dataset, batch_size=batch_size, shuffle=True)\n",
    "test_loader = DataLoader(dataset=test_dataset, batch_size=batch_size, shuffle=False)"
   ]
  },
  {
   "attachments": {},
   "cell_type": "markdown",
   "metadata": {},
   "source": [
    "# LSTM model"
   ]
  },
  {
   "cell_type": "code",
   "execution_count": 11,
   "metadata": {},
   "outputs": [],
   "source": [
    "class EncoderDecoderLSTM(nn.Module):\n",
    "  def __init__(self, input_dim, hidden_dim, num_layers, output_dim):\n",
    "    super(EncoderDecoderLSTM, self).__init__()\n",
    "    self.hidden_dim = hidden_dim\n",
    "    self.num_layers = num_layers\n",
    "\n",
    "    self.encoder_lstm = nn.LSTM(input_dim, hidden_dim, num_layers, batch_first=True)\n",
    "    self.decoder_lstm = nn.LSTM(hidden_dim, hidden_dim, num_layers, batch_first=True)\n",
    "    self.fc = nn.Linear(hidden_dim, output_dim)\n",
    "    self.relu = nn.ReLU()\n",
    "\n",
    "  def forward(self, x):\n",
    "    h0 = torch.zeros(self.num_layers, x.size(0), self.hidden_dim).to(x.device)\n",
    "    c0 = torch.zeros(self.num_layers, x.size(0), self.hidden_dim).to(x.device)\n",
    "\n",
    "    _, (hn, cn) = self.encoder_lstm(x.unsqueeze(1), (h0, c0))  # Add a dimension for the sequence length\n",
    "    out, _ = self.decoder_lstm(hn.transpose(0, 1), (hn, cn))  # Transpose hn to match the expected input shape\n",
    "    out = self.fc(out.squeeze(1))  # Squeeze the sequence length dimension\n",
    "    out = self.relu(out)  # Apply ReLU activation function to the output of the linear layer\n",
    "\n",
    "    return out"
   ]
  },
  {
   "attachments": {},
   "cell_type": "markdown",
   "metadata": {},
   "source": [
    "## Initialize the model"
   ]
  },
  {
   "cell_type": "code",
   "execution_count": 12,
   "metadata": {},
   "outputs": [],
   "source": [
    "# Initialize the model, loss function and optimizer\n",
    "device = torch.device(\"cuda\" if torch.cuda.is_available() else \"cpu\")\n",
    "model = EncoderDecoderLSTM(input_dim, hidden_dim, num_layers, output_dim).to(device)"
   ]
  },
  {
   "attachments": {},
   "cell_type": "markdown",
   "metadata": {},
   "source": [
    "### loss function and optimizer"
   ]
  },
  {
   "cell_type": "code",
   "execution_count": 13,
   "metadata": {},
   "outputs": [],
   "source": [
    "criterion = nn.CrossEntropyLoss().to(device)\n",
    "optimizer = optim.Adam(model.parameters(), lr=learning_rate)"
   ]
  },
  {
   "attachments": {},
   "cell_type": "markdown",
   "metadata": {},
   "source": [
    "# Train model"
   ]
  },
  {
   "cell_type": "code",
   "execution_count": 14,
   "metadata": {},
   "outputs": [
    {
     "name": "stdout",
     "output_type": "stream",
     "text": [
      "Epoch [1/1], Loss: 1.1852, Time: 40.27s\n"
     ]
    }
   ],
   "source": [
    "# from IPython.display import clear_output\n",
    "# import matplotlib.pyplot as plt\n",
    "import time\n",
    "\n",
    "# Initialize empty lists for storing the loss and time\n",
    "train_loss = []\n",
    "train_time = []\n",
    "\n",
    "# Enable interactive mode in matplotlib\n",
    "# plt.ion()\n",
    "\n",
    "# Create plot for training loss\n",
    "# fig, ax = plt.subplots(figsize=(15, 6))\n",
    "# ax.set_xlabel(\"Epoch\")\n",
    "# ax.set_ylabel(\"Loss\")\n",
    "\n",
    "# Train the model\n",
    "for epoch in range(num_epochs):\n",
    "    start_time = time.time()\n",
    "    for i, (inputs, labels) in enumerate(train_loader):\n",
    "        inputs = inputs.to(device)\n",
    "        labels = labels.to(device)\n",
    "\n",
    "        # Forward pass\n",
    "        outputs = model(inputs)\n",
    "        loss = criterion(outputs, labels)\n",
    "\n",
    "        # Backward and optimize\n",
    "        optimizer.zero_grad()\n",
    "        loss.backward()\n",
    "        optimizer.step()\n",
    "\n",
    "    # Compute and store the training loss and time\n",
    "    train_loss.append(loss.item())\n",
    "    train_time.append(time.time() - start_time)\n",
    "    print(f'Epoch [{epoch+1}/{num_epochs}], Loss: {loss.item():.4f}, Time: {train_time[-1]:.2f}s')\n",
    "\n",
    "    # Update plot for training loss\n",
    "#     ax.plot(train_loss, '-o')\n",
    "#     ax.set_xlim(1, len(train_loss))\n",
    "#     ax.set_ylim(min(train_loss), max(train_loss))\n",
    "#     clear_output(wait=True)\n",
    "#     display(fig)\n",
    "#     plt.pause(0.01)\n",
    "\n",
    "# # Show the final plot\n",
    "# plt.show()"
   ]
  },
  {
   "attachments": {},
   "cell_type": "markdown",
   "metadata": {},
   "source": [
    "# Test model"
   ]
  },
  {
   "cell_type": "code",
   "execution_count": 15,
   "metadata": {},
   "outputs": [
    {
     "name": "stdout",
     "output_type": "stream",
     "text": [
      "Test Accuracy: 64.86%\n"
     ]
    }
   ],
   "source": [
    "model.eval()\n",
    "with torch.no_grad():\n",
    "    correct = 0\n",
    "    total = 0\n",
    "\n",
    "    for inputs, labels in test_loader:\n",
    "        # print(inputs)\n",
    "        # print(labels)\n",
    "\n",
    "        inputs = inputs.to(device)\n",
    "        labels = labels.to(device)\n",
    "\n",
    "        outputs = model(inputs)\n",
    "\n",
    "        _, predicted = torch.max(outputs.data, 1)\n",
    "\n",
    "        total += labels.size(0)\n",
    "        correct += (predicted == labels).sum().item()\n",
    "\n",
    "    print(f'Test Accuracy: {100 * correct / total:.2f}%')\n",
    "\n",
    "# Save the model checkpoint\n",
    "# torch.save({'model_state_dict': model.state_dict()}, 'model_checkpoint.pt')\n",
    "torch.save(model,'cnn.pt')"
   ]
  },
  {
   "attachments": {},
   "cell_type": "markdown",
   "metadata": {},
   "source": [
    "# Test model on custom photo"
   ]
  },
  {
   "attachments": {},
   "cell_type": "markdown",
   "metadata": {},
   "source": [
    "### Get grom 3 tiff(red, nir swir) one array"
   ]
  },
  {
   "cell_type": "code",
   "execution_count": 16,
   "metadata": {},
   "outputs": [
    {
     "data": {
      "text/plain": [
       "(53, 36)"
      ]
     },
     "execution_count": 16,
     "metadata": {},
     "output_type": "execute_result"
    }
   ],
   "source": [
    "import rasterio\n",
    "import numpy as np\n",
    "import pandas as pd\n",
    "\n",
    "# Open the TIFF files and extract the data as NumPy arrays\n",
    "with rasterio.open('./B04.tif') as src:\n",
    "    red = src.read(1)\n",
    "\n",
    "with rasterio.open('./B8A.tif') as src:\n",
    "    nir = src.read(1)\n",
    "\n",
    "with rasterio.open('./B11.tif') as src:\n",
    "    swir = src.read(1)\n",
    "\n",
    "# Combine the NumPy arrays for the different bands into a single NumPy array\n",
    "data = np.dstack((red, nir, swir))\n",
    "data[:,:,1].shape"
   ]
  },
  {
   "attachments": {},
   "cell_type": "markdown",
   "metadata": {},
   "source": [
    "### Preparation data"
   ]
  },
  {
   "cell_type": "code",
   "execution_count": 17,
   "metadata": {},
   "outputs": [
    {
     "name": "stdout",
     "output_type": "stream",
     "text": [
      "torch.Size([53, 36, 3])\n",
      "tensor([[3097., 4222., 4160.],\n",
      "        [3226., 4250., 4303.],\n",
      "        [   0.,    0.,    0.],\n",
      "        ...,\n",
      "        [   0.,    0.,    0.],\n",
      "        [   0.,    0.,    0.],\n",
      "        [   0.,    0.,    0.]])\n"
     ]
    },
    {
     "data": {
      "text/plain": [
       "torch.Size([1908, 3])"
      ]
     },
     "execution_count": 17,
     "metadata": {},
     "output_type": "execute_result"
    }
   ],
   "source": [
    "float_array = data.astype(np.float32)\n",
    "# float_array = float_array[:-5400, :-5400]\n",
    "\n",
    "# input_tensor_test = torch.from_numpy(float_array).float()\n",
    "input_tensor_test = torch.from_numpy(float_array)\n",
    "\n",
    "print(input_tensor_test.shape)\n",
    "tensor_2d = input_tensor_test.reshape(-1, 3)\n",
    "\n",
    "# Print the shape of the reshaped tensor\n",
    "print(tensor_2d)\n",
    "tensor_2d.shape"
   ]
  },
  {
   "attachments": {},
   "cell_type": "markdown",
   "metadata": {},
   "source": [
    "##### transform to torch"
   ]
  },
  {
   "cell_type": "code",
   "execution_count": 18,
   "metadata": {},
   "outputs": [
    {
     "data": {
      "text/plain": [
       "torch.Size([1908, 3])"
      ]
     },
     "execution_count": 18,
     "metadata": {},
     "output_type": "execute_result"
    }
   ],
   "source": [
    "scaler = MinMaxScaler()\n",
    "X2 = scaler.fit_transform(tensor_2d)\n",
    "# Move data to GPU\n",
    "X2 = torch.Tensor(X2).to(device)\n",
    "X2.shape"
   ]
  },
  {
   "attachments": {},
   "cell_type": "markdown",
   "metadata": {},
   "source": [
    "### Predict data"
   ]
  },
  {
   "cell_type": "code",
   "execution_count": 19,
   "metadata": {},
   "outputs": [],
   "source": [
    "model.eval()\n",
    "with torch.no_grad():\n",
    "    output_tensor = model.forward(X2)"
   ]
  },
  {
   "attachments": {},
   "cell_type": "markdown",
   "metadata": {},
   "source": [
    "## Preparation predicted data"
   ]
  },
  {
   "attachments": {},
   "cell_type": "markdown",
   "metadata": {},
   "source": [
    "##### from torch tensor to numpy array"
   ]
  },
  {
   "cell_type": "code",
   "execution_count": 20,
   "metadata": {},
   "outputs": [
    {
     "name": "stdout",
     "output_type": "stream",
     "text": [
      "argmax_tensor shape =  torch.Size([1908])\n",
      "array_2d shape =  (53, 36)\n",
      "array_2d [[17 17 15 ... 15 15 15]\n",
      " [17 17 17 ... 15 15 15]\n",
      " [17 17 17 ... 15 15 15]\n",
      " ...\n",
      " [17 17 17 ... 15 15 15]\n",
      " [17 17 17 ... 15 15 15]\n",
      " [17 17 17 ... 15 15 15]]\n"
     ]
    }
   ],
   "source": [
    "argmax_tensor = torch.argmax(output_tensor, dim=1)\n",
    "print('argmax_tensor shape = ', argmax_tensor.shape)\n",
    "\n",
    "tensor_cpu = argmax_tensor.cpu()\n",
    "\n",
    "argmax_array = tensor_cpu.numpy()\n",
    "\n",
    "array_2d = argmax_array.reshape(data[:,:,1].shape)\n",
    "\n",
    "print('array_2d shape = ', array_2d.shape)\n",
    "print('array_2d', array_2d)\n"
   ]
  }
 ],
 "metadata": {
  "kernelspec": {
   "display_name": "Python 3",
   "language": "python",
   "name": "python3"
  },
  "language_info": {
   "codemirror_mode": {
    "name": "ipython",
    "version": 3
   },
   "file_extension": ".py",
   "mimetype": "text/x-python",
   "name": "python",
   "nbconvert_exporter": "python",
   "pygments_lexer": "ipython3",
   "version": "3.9.16"
  },
  "orig_nbformat": 4
 },
 "nbformat": 4,
 "nbformat_minor": 2
}
